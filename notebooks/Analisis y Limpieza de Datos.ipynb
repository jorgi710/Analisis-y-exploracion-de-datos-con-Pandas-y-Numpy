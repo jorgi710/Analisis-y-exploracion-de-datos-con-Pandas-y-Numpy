{
 "cells": [
  {
   "cell_type": "code",
   "execution_count": 16,
   "outputs": [],
   "source": [
    "#Limpieza y Exportacion de los datos\n",
    "import pandas as  pd\n",
    "df_students = pd.read_csv(\"../data/grades.csv\")\n",
    "null=df_students.isnull().sum()\n",
    "df_students[df_students.isnull().any(axis=1)]\n",
    "#Reemplazarlo por el promedio de los datos de esa columna\n",
    "df_students.StudyHours = df_students.StudyHours.fillna(df_students.StudyHours.mean())\n",
    "df_students = df_students.dropna(axis=0, how='any')\n",
    "null=df_students.isnull().sum()"
   ],
   "metadata": {
    "collapsed": false,
    "pycharm": {
     "name": "#%%\n"
    }
   }
  },
  {
   "cell_type": "code",
   "execution_count": 23,
   "outputs": [
    {
     "name": "stdout",
     "output_type": "stream",
     "text": [
      "Average weekly study hours: 10.5227\n",
      "Average grade: 49.18\n"
     ]
    }
   ],
   "source": [
    "mean_study = df_students.StudyHours.mean()\n",
    "mean_study\n",
    "mean_grades = df_students.Grade.mean()\n",
    "mean_grades\n",
    "\n",
    "print('Average weekly study hours: {:.4f}\\nAverage grade: {:.2f}'.format(mean_study, mean_grades))"
   ],
   "metadata": {
    "collapsed": false,
    "pycharm": {
     "name": "#%%\n"
    }
   }
  },
  {
   "cell_type": "code",
   "execution_count": 26,
   "outputs": [],
   "source": [
    "df_students[df_students.StudyHours < mean_study]\n"
   ],
   "metadata": {
    "collapsed": false,
    "pycharm": {
     "name": "#%%\n"
    }
   }
  },
  {
   "cell_type": "code",
   "execution_count": 31,
   "outputs": [],
   "source": [
    "passes  = pd.Series(df_students['Grade'] >= 60)\n",
    "df_students = pd.concat([df_students, passes.rename(\"Pass\")], axis=1)\n",
    "df_students = df_students.sort_values('Grade', ascending=True)\n",
    "#Numpy and DataFrames are the workhorses of data science in Python."
   ],
   "metadata": {
    "collapsed": false,
    "pycharm": {
     "name": "#%%\n"
    }
   }
  }
 ],
 "metadata": {
  "kernelspec": {
   "display_name": "Python 3",
   "language": "python",
   "name": "python3"
  },
  "language_info": {
   "codemirror_mode": {
    "name": "ipython",
    "version": 2
   },
   "file_extension": ".py",
   "mimetype": "text/x-python",
   "name": "python",
   "nbconvert_exporter": "python",
   "pygments_lexer": "ipython2",
   "version": "2.7.6"
  }
 },
 "nbformat": 4,
 "nbformat_minor": 0
}